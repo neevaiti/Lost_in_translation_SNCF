{
 "cells": [
  {
   "attachments": {},
   "cell_type": "markdown",
   "metadata": {},
   "source": [
    "# We add stations in the database."
   ]
  },
  {
   "cell_type": "code",
   "execution_count": 8,
   "metadata": {},
   "outputs": [],
   "source": [
    "import sqlite3\n",
    "import requests\n",
    "\n",
    "# Connexion à la base de données\n",
    "conn = sqlite3.connect('objets_trouves.db')\n",
    "cursor = conn.cursor()"
   ]
  },
  {
   "cell_type": "code",
   "execution_count": 9,
   "metadata": {},
   "outputs": [
    {
     "data": {
      "text/plain": [
       "<sqlite3.Cursor at 0x7fe13016eec0>"
      ]
     },
     "execution_count": 9,
     "metadata": {},
     "output_type": "execute_result"
    }
   ],
   "source": [
    "# Création de la table pour stocker les données de fréquentation des gares\n",
    "cursor.execute(\"\"\"\n",
    "    CREATE TABLE IF NOT EXISTS gares (\n",
    "        id INTEGER PRIMARY KEY,\n",
    "        nom_des_gares TEXT NOT NULL,\n",
    "        latitude FLOAT,\n",
    "        longitude FLOAT,\n",
    "        frequentation_2019 INTEGER,\n",
    "        frequentation_2020 INTEGER,\n",
    "        frequentation_2021 INTEGER,\n",
    "        frequentation_2022 INTEGER\n",
    "    )\n",
    "\"\"\")"
   ]
  },
  {
   "cell_type": "code",
   "execution_count": 10,
   "metadata": {},
   "outputs": [],
   "source": [
    "# Liste des gares avec leur latitude et longitude\n",
    "latitudes_longitudes = {\n",
    "    \"Paris Gare de Lyon\": (48.844321, 2.373773),\n",
    "    \"Paris Montparnasse\": (48.840744, 2.320817),\n",
    "    \"Paris Gare du Nord\": (48.880931, 2.355238),\n",
    "    \"Paris Saint-Lazare\": (48.876986, 2.325173),\n",
    "    \"Paris Est\": (48.876082, 2.358306),\n",
    "    \"Paris Austerlitz\": (48.841935, 2.365084),\n",
    "    \"Paris Bercy\": (48.839380, 2.386402)\n",
    "}"
   ]
  },
  {
   "cell_type": "code",
   "execution_count": 11,
   "metadata": {},
   "outputs": [],
   "source": [
    "# Liste des gares à récupérer\n",
    "gares = [\"Paris Gare de Lyon\", \"Paris Montparnasse\", \"Paris Gare du Nord\", \n",
    "         \"Paris Saint-Lazare\", \"Paris Est\", \"Paris Austerlitz\", \"Paris Bercy\"]"
   ]
  },
  {
   "cell_type": "code",
   "execution_count": 12,
   "metadata": {},
   "outputs": [],
   "source": [
    "# Récupération des données de fréquentation pour chaque gare\n",
    "for gare in gares:\n",
    "    url = f\"https://ressources.data.sncf.com/api/records/1.0/search/?dataset=frequentation-gares&q={gare}&facet=nom_gare&facet=total_voyageurs&timezone=Europe%2FParis\"\n",
    "    response = requests.get(url)\n",
    "\n",
    "    if response.ok:\n",
    "        data = response.json()\n",
    "        records = data['records']\n",
    "    else:\n",
    "        print(f'Erreur lors de la requête pour la gare {gare}:', response.status_code)\n",
    "        continue\n",
    "\n",
    "    # Stockage des données de fréquentation dans la base de données\n",
    "    for record in records:\n",
    "        nom_gare = record['fields']['nom_gare']\n",
    "        if nom_gare != gare:\n",
    "            continue\n",
    "        latitude, longitude = latitudes_longitudes[nom_gare]\n",
    "        frequentations = record['fields']\n",
    "        frequentation_2019 = frequentations['total_voyageurs_2019']\n",
    "        frequentation_2020 = frequentations['total_voyageurs_2020']\n",
    "        frequentation_2021 = frequentations['total_voyageurs_2021']\n",
    "\n",
    "        # TODO: Calculer la fréquentation pour 2022\n",
    "        frequentation_2022 = frequentations['total_voyageurs_2021'] * 1.1\n",
    "        cursor.execute(\"INSERT INTO gares (nom_des_gares, latitude, longitude, frequentation_2019, frequentation_2020, frequentation_2021, frequentation_2022) VALUES (?, ?, ?, ?, ?, ?, ?)\", (nom_gare, latitude, longitude, frequentation_2019, frequentation_2020, frequentation_2021, frequentation_2022))"
   ]
  },
  {
   "cell_type": "code",
   "execution_count": 13,
   "metadata": {},
   "outputs": [
    {
     "data": {
      "text/plain": [
       "<sqlite3.Cursor at 0x7fe13016eec0>"
      ]
     },
     "execution_count": 13,
     "metadata": {},
     "output_type": "execute_result"
    }
   ],
   "source": [
    "# Calcul de la fréquentation approximative pour 2022\n",
    "frequentation_2022 = frequentations['total_voyageurs_2021'] * 1.1\n",
    "cursor.execute(\"INSERT INTO gares (nom_des_gares, latitude, longitude, frequentation_2019, frequentation_2020, frequentation_2021, frequentation_2022) VALUES (?, ?, ?, ?, ?, ?, ?)\", (nom_gare, latitude, longitude, frequentation_2019, frequentation_2020, frequentation_2021, frequentation_2022))"
   ]
  },
  {
   "cell_type": "code",
   "execution_count": 14,
   "metadata": {},
   "outputs": [],
   "source": [
    "# Enregistrement des changements\n",
    "conn.commit()\n",
    "conn.close()"
   ]
  }
 ],
 "metadata": {
  "kernelspec": {
   "display_name": "Python 3",
   "language": "python",
   "name": "python3"
  },
  "language_info": {
   "codemirror_mode": {
    "name": "ipython",
    "version": 3
   },
   "file_extension": ".py",
   "mimetype": "text/x-python",
   "name": "python",
   "nbconvert_exporter": "python",
   "pygments_lexer": "ipython3",
   "version": "3.10.9"
  },
  "orig_nbformat": 4,
  "vscode": {
   "interpreter": {
    "hash": "916dbcbb3f70747c44a77c7bcd40155683ae19c65e1c03b4aa3499c5328201f1"
   }
  }
 },
 "nbformat": 4,
 "nbformat_minor": 2
}
