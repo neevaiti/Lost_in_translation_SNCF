{
 "cells": [
  {
   "cell_type": "code",
   "execution_count": 109,
   "metadata": {},
   "outputs": [],
   "source": [
    "import sqlite3\n",
    "import pandas as pd"
   ]
  },
  {
   "cell_type": "code",
   "execution_count": 110,
   "metadata": {},
   "outputs": [],
   "source": [
    "conn = sqlite3.connect(\"../objets_trouves.db\")\n",
    "cursor = conn.cursor()\n",
    "\n",
    "\n",
    "df = pd.read_csv(\"../temp.csv\")"
   ]
  },
  {
   "cell_type": "code",
   "execution_count": 111,
   "metadata": {},
   "outputs": [],
   "source": [
    "# ajout de la colonne ID correspondant aux numéros de lignes\n",
    "df.insert(0, 'id', df.index + 1)"
   ]
  },
  {
   "cell_type": "code",
   "execution_count": 112,
   "metadata": {},
   "outputs": [
    {
     "data": {
      "text/plain": [
       "<sqlite3.Cursor at 0x1587b7b40>"
      ]
     },
     "execution_count": 112,
     "metadata": {},
     "output_type": "execute_result"
    }
   ],
   "source": [
    "# création de la table\n",
    "cursor.execute(\"\"\"\n",
    "    CREATE TABLE IF NOT EXISTS temperature (\n",
    "        id INTEGER PRIMARY KEY,\n",
    "        date TEXT NOT NULL,\n",
    "        temperature FLOAT NOT NULL\n",
    "    )\n",
    "\"\"\")"
   ]
  },
  {
   "cell_type": "code",
   "execution_count": 113,
   "metadata": {},
   "outputs": [],
   "source": [
    "# insertion des données\n",
    "for index, row in df.iterrows():\n",
    "    cursor.execute(\"INSERT INTO temperature (id, date, temperature) VALUES (?, ?, ?)\", (row[\"id\"], row[\"time\"], row[\"temperature_2m_mean (°C)\"]))"
   ]
  },
  {
   "cell_type": "code",
   "execution_count": 114,
   "metadata": {},
   "outputs": [],
   "source": [
    "# Confirmation des modifications et fermer la connexion\n",
    "conn.commit()\n",
    "conn.close()"
   ]
  }
 ],
 "metadata": {
  "language_info": {
   "name": "python"
  },
  "orig_nbformat": 4
 },
 "nbformat": 4,
 "nbformat_minor": 2
}
